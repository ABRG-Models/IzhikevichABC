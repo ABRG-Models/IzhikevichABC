{
 "cells": [
  {
   "cell_type": "markdown",
   "metadata": {},
   "source": [
    "# Running ABC models\n",
    "This notebook shows how to run an Izhikevich neuron model which is implemented in SpineML.\n",
    "\n",
    "It depends on an installation of SpineCreator. If you don't have one, you can find out how here: http://bimpa.group.shef.ac.uk/SpineML/index.php/SpineCreator_-_A_Graphical_Tool#Building_on_Linux\n",
    "\n",
    "We make system calls to execute the SpineML model (with SpineML_2_BRAHMS) and then we load the resulting output and visualise it here with matplotlib.\n",
    "\n",
    "## Set paths\n",
    "First, we need to tell this notebook where to find the SpineML model."
   ]
  },
  {
   "cell_type": "code",
   "execution_count": 1,
   "metadata": {},
   "outputs": [],
   "source": [
    "# Path to the directory in which the Izhikevich model is stored:\n",
    "modeldir_global = '/home/seb/models/IzhikevichABC/Izhi_STN'\n",
    "# Path to your SpineML_2_BRAHMS installation:\n",
    "spineml2brahms_global = '/home/seb/src/SpineML_2_BRAHMS'"
   ]
  },
  {
   "cell_type": "markdown",
   "metadata": {},
   "source": [
    "## Set parameters\n",
    "\n",
    "Set up some default abc parameters for the model:"
   ]
  },
  {
   "cell_type": "code",
   "execution_count": 2,
   "metadata": {},
   "outputs": [],
   "source": [
    "# Here are the default model parameters\n",
    "_a=0.03; _b=0.193; _c=-65; _d=0.05;\n",
    "_vpeak=30; _A=0.032; _B=4; _C=113.147; _T=0.4; _SI=5;\n",
    "_vinit=-70; _uinit=-10;"
   ]
  },
  {
   "cell_type": "markdown",
   "metadata": {},
   "source": [
    "## Modify then run and visualise an ABC model\n",
    "\n",
    "Define a function to run the model:"
   ]
  },
  {
   "cell_type": "code",
   "execution_count": 3,
   "metadata": {},
   "outputs": [],
   "source": [
    "# *Modify* the model then run it and finally analyse it.\n",
    "def define_and_run_model (constI=0, a=_a, b=_b, c=_c, d=_d, \n",
    "                          vpeak=_vpeak, A=_A, B=_B, C=_C, T=_T, SI=_SI,\n",
    "                          lowerV=-80, upperV=-20, qvloweru=-16, qvupperu=-10, \n",
    "                          qpspacing=3, qpveclen=60, vinit=_vinit, uinit=_uinit):\n",
    "\n",
    "    # Where's the model and data?\n",
    "    modeldir = modeldir_global;\n",
    "    expt = 0;\n",
    "    spineml2brahms = spineml2brahms_global;\n",
    "    spinemltmp = spineml2brahms+'/temp/log/';\n",
    "\n",
    "    # Modify the model xml\n",
    "    import update_abc_model_xml as abcupdate\n",
    "    abcupdate.update_abc_model_xml (modeldir,expt,a,b,c,d,A,B,C,T,SI,vpeak,vinit,uinit)\n",
    "\n",
    "    # Execute the model\n",
    "    import os\n",
    "    spinemlcmd = '/bin/bash -c \"pushd {0} && LD_LIBRARY_PATH=\\\"\\\" ./convert_script_s2b -m {1} -e{2} -cSebtest1:I:{3} ; popd\"'.format(spineml2brahms, modeldir, expt, constI)\n",
    "    os.system(spinemlcmd);\n",
    "\n",
    "    # load the data from the model run\n",
    "    import load_sc_data as lsd\n",
    "    v, v_count, t, nn, dt = lsd.load_sc_data (spinemltmp+'Sebtest1_v_log.bin');\n",
    "    u, u_count, tu, nnu, dtu = lsd.load_sc_data (spinemltmp+'Sebtest1_u_log.bin');\n",
    "\n",
    "    import numpy as np\n",
    "\n",
    "    # Compute nullclines\n",
    "    I = np.zeros(v_count)+constI;\n",
    "    Vn = np.linspace (lowerV, upperV, 1000);\n",
    "    nc_v = A*np.power(Vn, 2)+ B*Vn + C + I[:len(Vn)]/SI;\n",
    "    nc_u = Vn*b;\n",
    "\n",
    "    # Compute vector field\n",
    "    if qpspacing != 0:\n",
    "        thescale = abs(lowerV-upperV)/qpspacing;\n",
    "        Vgv = np.linspace(lowerV, upperV, thescale);\n",
    "        ugv = np.linspace(qvloweru, qvupperu, thescale);\n",
    "        Vg, ug = np.meshgrid(Vgv, ugv);\n",
    "        vdot = T*A*Vg*Vg + T*B*Vg + T*C - T*ug + T*I[:len(Vg)]/SI;\n",
    "        udot = T*a*(b*Vg - ug);\n",
    "    \n",
    "    # Plot it.\n",
    "    %matplotlib inline\n",
    "    import plot_izhi as pizhi\n",
    "    pizhi.plot_izhi ('STN candidate model', v, u, Vn, nc_v, nc_u, Vg, ug, vdot, udot,\n",
    "                     lowerV, upperV, qvloweru, qvupperu, qpspacing, qpveclen)"
   ]
  },
  {
   "cell_type": "markdown",
   "metadata": {},
   "source": [
    "## Run the model with interact"
   ]
  },
  {
   "cell_type": "code",
   "execution_count": 13,
   "metadata": {
    "scrolled": false
   },
   "outputs": [
    {
     "data": {
      "application/vnd.jupyter.widget-view+json": {
       "model_id": "f180f516035f4601bf41566ed4b8b985",
       "version_major": 2,
       "version_minor": 0
      },
      "text/plain": [
       "interactive(children=(FloatSlider(value=0.0, description='constI', min=-100.0, step=0.5), FloatSlider(value=0.…"
      ]
     },
     "metadata": {},
     "output_type": "display_data"
    }
   ],
   "source": [
    "from ipywidgets import interact\n",
    "\n",
    "interact(define_and_run_model,\n",
    "         constI=(-100,100,0.5),\n",
    "         a=(0.02,0.035,0.0001),\n",
    "         b=(0.100,0.300,0.001),\n",
    "         c=(-120,30,1),\n",
    "         d=(0,0.5,0.01),\n",
    "         T=(0.0,10.0,0.1),\n",
    "         A=(0.03,0.035,0.0001),\n",
    "         B=(3,5,0.01),\n",
    "         C=(100,150,0.1),\n",
    "         vpeak=(20,40,1),\n",
    "         lowerV=(-120,-40,1),\n",
    "         upperV=(-40,60,1),\n",
    "         qvloweru=(-20,0,1),\n",
    "         qvupperu=(-6,10,1),\n",
    "         qpscale=(0,6,0.1),\n",
    "         qpdivisor=(0.00001,0.0001,0.00001),\n",
    "         vinit=(-120,30,.1),\n",
    "         uinit=(-20,10,.1));"
   ]
  },
  {
   "cell_type": "markdown",
   "metadata": {
    "collapsed": true
   },
   "source": [
    "Here're the equations for the above:\n",
    "$$\\dot{v} = A v^2 + B v + C -u + I$$\n",
    "$$\\dot{u} = a (bv-u)$$"
   ]
  },
  {
   "cell_type": "markdown",
   "metadata": {},
   "source": [
    "## Read, run and visualise an ABC model"
   ]
  },
  {
   "cell_type": "code",
   "execution_count": 5,
   "metadata": {},
   "outputs": [],
   "source": [
    "# *Read* the model then run it and finally analyse it.\n",
    "def run_model (expt=0, lowerV=-80, upperV=-20, qvloweru=-16, qvupperu=-10,\n",
    "               qpspacing=3, qpveclen=70):\n",
    "\n",
    "    # Where's the model and data?\n",
    "    modeldir = modeldir_global;\n",
    "    spineml2brahms = spineml2brahms_global;\n",
    "    spinemltmp = spineml2brahms+'/temp/log/';\n",
    "\n",
    "    # Modify the model xml\n",
    "    import read_abc_model_xml as abcread\n",
    "    a,b,c,d,A,B,C,T,vpeak,vinit,uinit = abcread.read_abc_model_xml (modeldir,expt)\n",
    "\n",
    "    # Execute the model\n",
    "    import os\n",
    "    spinemlcmd = '/bin/bash -c \"pushd '+spineml2brahms+' && '+\\\n",
    "                 'LD_LIBRARY_PATH=\\\"\\\" ./convert_script_s2b -m '+modeldir+' -e'+\\\n",
    "                 repr(expt)+' ; popd\"'; # omit: +' -cSebtest1:I:'+`constI`\n",
    "    os.system(spinemlcmd);\n",
    "\n",
    "    # load the data from the model run\n",
    "    import load_sc_data as lsd\n",
    "    v, v_count, t, nn, dt = lsd.load_sc_data (spinemltmp+'Sebtest1_v_log.bin');\n",
    "    u, u_count, tu, nnu, dt = lsd.load_sc_data (spinemltmp+'Sebtest1_u_log.bin');\n",
    "\n",
    "    import numpy as np\n",
    "\n",
    "    # Temporary hack - better to get this from xml\n",
    "    constI = 0\n",
    "    \n",
    "    # Compute nullclines\n",
    "    Vn = np.linspace (lowerV, upperV, 1000);\n",
    "    I = np.zeros(v_count)+constI;\n",
    "    nc_v = A*np.power(Vn, 2)+ B*Vn + C + I[:len(Vn)];\n",
    "    nc_u = Vn*b;\n",
    "\n",
    "    # Compute vector field\n",
    "    if qpspacing != 0:\n",
    "        thescale = abs(lowerV-upperV)/qpspacing;\n",
    "        Vgv = np.linspace(lowerV, upperV, thescale);\n",
    "        ugv = np.linspace(qvloweru, qvupperu, thescale);\n",
    "        Vg, ug = np.meshgrid(Vgv, ugv);\n",
    "        vdot = T*A*Vg*Vg + T*B*Vg + T*C - T*ug + T*I[:len(Vg)];\n",
    "        udot = T*a*(b*Vg - ug);\n",
    "    \n",
    "    # Plot it.\n",
    "    %matplotlib inline\n",
    "    import plot_izhi as pizhi\n",
    "    pizhi.plot_izhi ('STN candidate model', v, u, Vn, nc_v, nc_u, Vg, ug, vdot, udot,\n",
    "                     lowerV, upperV, qvloweru, qvupperu, qpspacing, qpveclen)\n",
    "    \n",
    "    # Now plot the time series\n",
    "    import matplotlib.pyplot as plt\n",
    "    plt.figure(figsize=(18,10))\n",
    "    plt.clf;\n",
    "    plt.plot (t, v)\n",
    "    plt.xlabel('t (ms)')\n",
    "    plt.ylabel('v') "
   ]
  },
  {
   "cell_type": "code",
   "execution_count": 6,
   "metadata": {},
   "outputs": [
    {
     "data": {
      "application/vnd.jupyter.widget-view+json": {
       "model_id": "95d1a562d51a4a6daa319dddd4e5090c",
       "version_major": 2,
       "version_minor": 0
      },
      "text/plain": [
       "interactive(children=(IntSlider(value=0, description='expt', max=10), IntSlider(value=-80, description='lowerV…"
      ]
     },
     "metadata": {},
     "output_type": "display_data"
    },
    {
     "data": {
      "text/plain": [
       "<function __main__.run_model(expt=0, lowerV=-80, upperV=-20, qvloweru=-16, qvupperu=-10, qpspacing=3, qpveclen=70)>"
      ]
     },
     "execution_count": 6,
     "metadata": {},
     "output_type": "execute_result"
    }
   ],
   "source": [
    "from ipywidgets import interact\n",
    "\n",
    "interact(run_model,\n",
    "         expt=(0,10,1),\n",
    "         lowerV=(-120,-40,1),\n",
    "         upperV=(-40,60,1),\n",
    "         qvloweru=(-20,0,1),\n",
    "         qvupperu=(-6,10,1),\n",
    "         qpspacing=(0,10,0.5),\n",
    "         qpveclen=(10,300,10))"
   ]
  },
  {
   "cell_type": "markdown",
   "metadata": {},
   "source": [
    "## Produce firing rate vs. current for ABC model"
   ]
  },
  {
   "cell_type": "code",
   "execution_count": 14,
   "metadata": {},
   "outputs": [],
   "source": [
    "# Do a sweep through the currents with a given set of parameters.\n",
    "def rate_sweep (constIlist):\n",
    "    # Set your parameters here...\n",
    "    expt = 0;\n",
    "    a=_a; b=_b; c=_c; d=_d\n",
    "    vpeak=_vpeak;\n",
    "    A=_A; B=_B; C=_C; T=_T; SI=_SI;\n",
    "    lowerV=-80; upperV=-20; qvloweru=-16; qvupperu=-10\n",
    "    qpscale=3; qpdivisor=0.00001;\n",
    "    vinit=_vinit; uinit=_uinit\n",
    "    # Where's the model and data?\n",
    "    modeldir = modeldir_global;\n",
    "    spineml2brahms = spineml2brahms_global;\n",
    "    spinemltmp = spineml2brahms+'/temp/log/';\n",
    "\n",
    "    # Modify the model xml\n",
    "    import update_abc_model_xml as abcupdate\n",
    "    abcupdate.update_abc_model_xml (modeldir,expt,a,b,c,d,A,B,C,T,SI,vpeak,vinit,uinit)\n",
    "\n",
    "    # Execute the model\n",
    "    import os\n",
    "    import load_sc_data as lsd\n",
    "    import firing_rate as fr\n",
    "\n",
    "    # Put this in a loop, and do some analysis to extract the firing rate from the output.\n",
    "    rates=[];\n",
    "    isiRates=[];\n",
    "    for constI in constIlist:\n",
    "        spinemlcmd = '/bin/bash -c \"pushd '+spineml2brahms+' && '+'LD_LIBRARY_PATH=\\\"\\\" ./convert_script_s2b -m '+modeldir+' -e'+repr(expt)+' -cSebtest1:I:'+repr(constI)+' ; popd\"';\n",
    "        os.system(spinemlcmd);\n",
    "\n",
    "        # load the data from the model run\n",
    "        v, v_count, t, nn, dt = lsd.load_sc_data (spinemltmp+'Sebtest1_v_log.bin');\n",
    "        u, u_count, tu, nnu, dtu = lsd.load_sc_data (spinemltmp+'Sebtest1_u_log.bin');\n",
    "    \n",
    "        rate, isiRate = fr.firing_rate (v, t[len(t)-1], 0.1)\n",
    "        print ('rate: {0} isiRate: {1}'.format(rate, isiRate))\n",
    "        rates.append(rate);\n",
    "        isiRates.append(isiRate);\n",
    "\n",
    "    return rates, isiRates\n"
   ]
  },
  {
   "cell_type": "code",
   "execution_count": 15,
   "metadata": {},
   "outputs": [
    {
     "name": "stdout",
     "output_type": "stream",
     "text": [
      "rate: 6.0006000600060005 isiRate: 6.597031335898845\n",
      "rate: 6.0006000600060005 isiRate: 6.802721088435375\n",
      "rate: 7.000700070007001 isiRate: 7.244876837093768\n",
      "rate: 8.000800080008 isiRate: 8.645844590943476\n",
      "rate: 12.001200120012001 isiRate: 12.83834385364288\n",
      "rate: 30.003000300030003 isiRate: 30.296909715209047\n",
      "rate: 76.00760076007602 isiRate: 76.88416793120889\n",
      "rate: 186.018601860186 isiRate: 190.1062959934587\n",
      "rate: 280.02800280028003 isiRate: 288.65979381443293\n"
     ]
    },
    {
     "data": {
      "text/plain": [
       "Text(0, 0.5, 'Firing rate per second')"
      ]
     },
     "execution_count": 15,
     "metadata": {},
     "output_type": "execute_result"
    },
    {
     "data": {
      "image/png": "[encoded data removed]",
      "text/plain": [
       "<Figure size 1296x720 with 1 Axes>"
      ]
     },
     "metadata": {
      "needs_background": "light"
     },
     "output_type": "display_data"
    }
   ],
   "source": [
    "constIlist = [0, 0.1, 0.3, 1, 3, 10, 30, 100, 180]\n",
    "rates, isiRates = rate_sweep(constIlist)\n",
    "%matplotlib inline\n",
    "import matplotlib.pyplot as plt\n",
    "plt.figure(figsize=(18,10))\n",
    "plt.clf;\n",
    "plt.plot (constIlist, rates, color='r')\n",
    "plt.plot (constIlist, isiRates, color='b')\n",
    "plt.xlabel('I')\n",
    "plt.ylabel('Firing rate per second')"
   ]
  },
  {
   "cell_type": "code",
   "execution_count": null,
   "metadata": {},
   "outputs": [],
   "source": []
  }
 ],
 "metadata": {
  "kernelspec": {
   "display_name": "Python 3",
   "language": "python",
   "name": "python3"
  },
  "language_info": {
   "codemirror_mode": {
    "name": "ipython",
    "version": 3
   },
   "file_extension": ".py",
   "mimetype": "text/x-python",
   "name": "python",
   "nbconvert_exporter": "python",
   "pygments_lexer": "ipython3",
   "version": "3.7.1"
  }
 },
 "nbformat": 4,
 "nbformat_minor": 1
}
